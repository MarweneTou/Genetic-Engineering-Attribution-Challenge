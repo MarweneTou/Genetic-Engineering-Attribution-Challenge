{
 "cells": [
  {
   "cell_type": "code",
   "execution_count": 216,
   "metadata": {},
   "outputs": [],
   "source": [
    "import pandas as pd\n",
    "import matplotlib.pyplot as plt\n",
    "import seaborn as sns\n",
    "import numpy as np\n",
    "from sklearn.ensemble import RandomForestClassifier\n",
    "# import re \n",
    "from sklearn.model_selection import train_test_split\n",
    "\n",
    "%matplotlib inline"
   ]
  },
  {
   "cell_type": "code",
   "execution_count": 217,
   "metadata": {},
   "outputs": [],
   "source": [
    "train_labels = pd.read_csv(\"C:/Users/HP/OneDrive/Documents/DrivenData/train_labels.csv\")\n",
    "train_values = pd.read_csv(\"C:/Users/HP/OneDrive/Documents/DrivenData/train_values.csv\")\n",
    "test_values = pd.read_csv(\"C:/Users/HP/OneDrive/Documents/DrivenData/test_values.csv\")"
   ]
  },
  {
   "cell_type": "code",
   "execution_count": 218,
   "metadata": {},
   "outputs": [
    {
     "data": {
      "text/plain": [
       "<matplotlib.axes._subplots.AxesSubplot at 0x1b51b448408>"
      ]
     },
     "execution_count": 218,
     "metadata": {},
     "output_type": "execute_result"
    },
    {
     "data": {
      "image/png": "[encoded data removed]",
      "text/plain": [
       "<Figure size 432x288 with 1 Axes>"
      ]
     },
     "metadata": {
      "needs_background": "light"
     },
     "output_type": "display_data"
    }
   ],
   "source": [
    "sequence_lengths = train_values.sequence.apply(len)\n",
    "sequence_lengths.plot(kind=\"hist\", title='Distribution of DNA Sequence Lengths', \n",
    "    bins=100,\n",
    "    xlim=(0, 20000))"
   ]
  },
  {
   "cell_type": "code",
   "execution_count": 219,
   "metadata": {},
   "outputs": [
    {
     "data": {
      "text/html": [
       "<div>\n",
       "<style scoped>\n",
       "    .dataframe tbody tr th:only-of-type {\n",
       "        vertical-align: middle;\n",
       "    }\n",
       "\n",
       "    .dataframe tbody tr th {\n",
       "        vertical-align: top;\n",
       "    }\n",
       "\n",
       "    .dataframe thead th {\n",
       "        text-align: right;\n",
       "    }\n",
       "</style>\n",
       "<table border=\"1\" class=\"dataframe\">\n",
       "  <thead>\n",
       "    <tr style=\"text-align: right;\">\n",
       "      <th></th>\n",
       "      <th>bacterial_resistance_ampicillin</th>\n",
       "      <th>bacterial_resistance_chloramphenicol</th>\n",
       "      <th>bacterial_resistance_kanamycin</th>\n",
       "      <th>bacterial_resistance_other</th>\n",
       "      <th>bacterial_resistance_spectinomycin</th>\n",
       "      <th>copy_number_high_copy</th>\n",
       "      <th>copy_number_low_copy</th>\n",
       "      <th>copy_number_unknown</th>\n",
       "      <th>growth_strain_ccdb_survival</th>\n",
       "      <th>growth_strain_dh10b</th>\n",
       "      <th>...</th>\n",
       "      <th>species_budding_yeast</th>\n",
       "      <th>species_fly</th>\n",
       "      <th>species_human</th>\n",
       "      <th>species_mouse</th>\n",
       "      <th>species_mustard_weed</th>\n",
       "      <th>species_nematode</th>\n",
       "      <th>species_other</th>\n",
       "      <th>species_rat</th>\n",
       "      <th>species_synthetic</th>\n",
       "      <th>species_zebrafish</th>\n",
       "    </tr>\n",
       "  </thead>\n",
       "  <tbody>\n",
       "    <tr>\n",
       "      <td>0.0</td>\n",
       "      <td>19590</td>\n",
       "      <td>60506</td>\n",
       "      <td>48706</td>\n",
       "      <td>62078</td>\n",
       "      <td>58592</td>\n",
       "      <td>18750</td>\n",
       "      <td>57313</td>\n",
       "      <td>50059</td>\n",
       "      <td>61841</td>\n",
       "      <td>61285</td>\n",
       "      <td>...</td>\n",
       "      <td>61417</td>\n",
       "      <td>61478</td>\n",
       "      <td>36890</td>\n",
       "      <td>57732</td>\n",
       "      <td>61978</td>\n",
       "      <td>62322</td>\n",
       "      <td>56381</td>\n",
       "      <td>61949</td>\n",
       "      <td>55170</td>\n",
       "      <td>61742</td>\n",
       "    </tr>\n",
       "    <tr>\n",
       "      <td>1.0</td>\n",
       "      <td>43427</td>\n",
       "      <td>2511</td>\n",
       "      <td>14311</td>\n",
       "      <td>939</td>\n",
       "      <td>4425</td>\n",
       "      <td>44267</td>\n",
       "      <td>5704</td>\n",
       "      <td>12958</td>\n",
       "      <td>1176</td>\n",
       "      <td>1732</td>\n",
       "      <td>...</td>\n",
       "      <td>1600</td>\n",
       "      <td>1539</td>\n",
       "      <td>26127</td>\n",
       "      <td>5285</td>\n",
       "      <td>1039</td>\n",
       "      <td>695</td>\n",
       "      <td>6636</td>\n",
       "      <td>1068</td>\n",
       "      <td>7847</td>\n",
       "      <td>1275</td>\n",
       "    </tr>\n",
       "  </tbody>\n",
       "</table>\n",
       "<p>2 rows × 39 columns</p>\n",
       "</div>"
      ],
      "text/plain": [
       "     bacterial_resistance_ampicillin  bacterial_resistance_chloramphenicol  \\\n",
       "0.0                            19590                                 60506   \n",
       "1.0                            43427                                  2511   \n",
       "\n",
       "     bacterial_resistance_kanamycin  bacterial_resistance_other  \\\n",
       "0.0                           48706                       62078   \n",
       "1.0                           14311                         939   \n",
       "\n",
       "     bacterial_resistance_spectinomycin  copy_number_high_copy  \\\n",
       "0.0                               58592                  18750   \n",
       "1.0                                4425                  44267   \n",
       "\n",
       "     copy_number_low_copy  copy_number_unknown  growth_strain_ccdb_survival  \\\n",
       "0.0                 57313                50059                        61841   \n",
       "1.0                  5704                12958                         1176   \n",
       "\n",
       "     growth_strain_dh10b  ...  species_budding_yeast  species_fly  \\\n",
       "0.0                61285  ...                  61417        61478   \n",
       "1.0                 1732  ...                   1600         1539   \n",
       "\n",
       "     species_human  species_mouse  species_mustard_weed  species_nematode  \\\n",
       "0.0          36890          57732                 61978             62322   \n",
       "1.0          26127           5285                  1039               695   \n",
       "\n",
       "     species_other  species_rat  species_synthetic  species_zebrafish  \n",
       "0.0          56381        61949              55170              61742  \n",
       "1.0           6636         1068               7847               1275  \n",
       "\n",
       "[2 rows x 39 columns]"
      ]
     },
     "execution_count": 219,
     "metadata": {},
     "output_type": "execute_result"
    }
   ],
   "source": [
    "train_values.iloc[:, 2:].apply(pd.value_counts)"
   ]
  },
  {
   "cell_type": "code",
   "execution_count": 220,
   "metadata": {},
   "outputs": [],
   "source": [
    "sorted_binary_features = train_values.iloc[:, 1:].mean().sort_values()\n",
    "\n",
    "ax = sorted_binary_features.plot(kind='barh', stacked=True, figsize=(5, 12), title='Prevalence of Binary Features')\n",
    "ax.set_xlabel('Proportion of sequences');"
   ]
  },
  {
   "cell_type": "code",
   "execution_count": 221,
   "metadata": {},
   "outputs": [],
   "source": [
    "# number of genes in the plasmid\n",
    "def gene_numbers(sequence):\n",
    "    c=0\n",
    "    tata_box = [\"TATATAT\", \"TATAAAA\", \"TATATAA\", \"TATAAAT\"]\n",
    "    for indx, seq in enumerate(sequence):\n",
    "        for box in tata_box:\n",
    "            if box == sequence[indx: indx+7]:\n",
    "                c +=1\n",
    "    return c"
   ]
  },
  {
   "cell_type": "code",
   "execution_count": 222,
   "metadata": {},
   "outputs": [],
   "source": [
    "train_values[\"gene_number\"] = train_values.sequence.apply(gene_numbers)\n",
    "train_values[\"sequence_lengths\"] = train_values.sequence.apply(len)"
   ]
  },
  {
   "cell_type": "code",
   "execution_count": 223,
   "metadata": {},
   "outputs": [],
   "source": [
    "def occurence_A(row):\n",
    "    c = 0\n",
    "    for base in row:\n",
    "        if base == \"A\":\n",
    "            c+= 1\n",
    "    return c\n",
    "\n",
    "def occurence_T(row):\n",
    "    c = 0\n",
    "    for base in row:\n",
    "        if base == \"T\":\n",
    "            c+= 1\n",
    "    return c\n",
    "\n",
    "def occurence_G(row):\n",
    "    c = 0\n",
    "    for base in row:\n",
    "        if base == \"G\":\n",
    "            c+= 1\n",
    "    return c\n",
    "\n",
    "def occurence_C(row):\n",
    "    c = 0\n",
    "    for base in row:\n",
    "        if base == \"C\":\n",
    "            c+= 1\n",
    "    return c\n",
    "\n",
    "def occurence_N(row):\n",
    "    c = 0\n",
    "    for base in row:\n",
    "        if base == \"N\":\n",
    "            c+= 1\n",
    "    return c"
   ]
  },
  {
   "cell_type": "code",
   "execution_count": 224,
   "metadata": {},
   "outputs": [],
   "source": [
    "# train_values[\"A_occurrence\"] = train_values.sequence.apply(occurence_A)\n",
    "# train_values[\"T_occurrence\"] = train_values.sequence.apply(occurence_T)\n",
    "train_values[\"G_occurrence\"] = train_values.sequence.apply(occurence_G)\n",
    "train_values[\"C_occurrence\"] = train_values.sequence.apply(occurence_C)\n",
    "train_values[\"N_occurrence\"] = train_values.sequence.apply(occurence_N)"
   ]
  },
  {
   "cell_type": "code",
   "execution_count": 225,
   "metadata": {},
   "outputs": [],
   "source": [
    "train_labels.set_index(\"sequence_id\", inplace=True)\n",
    "lab_ids = pd.DataFrame(train_labels.idxmax(axis=1), columns=['lab_id'])\n",
    "\n",
    "lab_ids.reset_index(inplace=True)\n",
    "features_lab = lab_ids.merge(train_values, on=\"sequence_id\")\n",
    "bases = [\"A\", \"T\", \"C\", \"G\", \"N\"]"
   ]
  },
  {
   "cell_type": "code",
   "execution_count": 226,
   "metadata": {},
   "outputs": [],
   "source": [
    "from itertools import permutations\n",
    "n = 5\n",
    "subsequences = [''.join(permutation) for permutation in permutations(bases, r=n)]"
   ]
  },
  {
   "cell_type": "code",
   "execution_count": 227,
   "metadata": {},
   "outputs": [],
   "source": [
    "def get_ngram_features(data, subsequences):\n",
    "    \"\"\"Generates counts for each subsequence.\n",
    "\n",
    "    Args:\n",
    "        data (DataFrame): The data you want to create features from. Must include a \"sequence\" column.\n",
    "        subsequences (list): A list of subsequences to count.\n",
    "\n",
    "    Returns:\n",
    "        DataFrame: A DataFrame with one column for each subsequence.\n",
    "    \"\"\"\n",
    "    features = pd.DataFrame(index=data.index)\n",
    "    for subseq in subsequences:\n",
    "        features[subseq] = data.sequence.str.count(subseq)\n",
    "    return features"
   ]
  },
  {
   "cell_type": "code",
   "execution_count": 228,
   "metadata": {},
   "outputs": [],
   "source": [
    "ngram_features = get_ngram_features(train_values, subsequences)"
   ]
  },
  {
   "cell_type": "code",
   "execution_count": 229,
   "metadata": {},
   "outputs": [],
   "source": [
    "all_features = ngram_features.join(features_lab.drop('sequence', axis=1))"
   ]
  },
  {
   "cell_type": "code",
   "execution_count": 230,
   "metadata": {},
   "outputs": [],
   "source": [
    "def top10_accuracy_scorer(estimator, X, y):\n",
    "    \"\"\"A custom scorer that evaluates a model on whether the correct label is in \n",
    "    the top 10 most probable predictions.\n",
    "\n",
    "    Args:\n",
    "        estimator (sklearn estimator): The sklearn model that should be evaluated.\n",
    "        X (numpy array): The validation data.\n",
    "        y (numpy array): The ground truth labels.\n",
    "\n",
    "    Returns:\n",
    "        float: Accuracy of the model as defined by the proportion of predictions\n",
    "               in which the correct label was in the top 10. Higher is better.\n",
    "    \"\"\"\n",
    "    probas = estimator.predict_proba(X)\n",
    "    top10_idx = np.argpartition(probas, -10, axis=1)[:, -10:]\n",
    "    top10_preds = estimator.classes_[top10_idx]\n",
    "    mask = top10_preds == y.reshape((y.size, 1))\n",
    "    top_10_accuracy = mask.any(axis=1).mean()\n",
    " \n",
    "    return top_10_accuracy"
   ]
  },
  {
   "cell_type": "code",
   "execution_count": null,
   "metadata": {},
   "outputs": [],
   "source": []
  },
  {
   "cell_type": "code",
   "execution_count": 231,
   "metadata": {},
   "outputs": [],
   "source": [
    "# Rename our feature array\n",
    "X = all_features.drop([\"lab_id\", \"sequence_id\"], axis=1)\n",
    "\n",
    "# Create our labels\n",
    "y = all_features.lab_id.values.ravel()"
   ]
  },
  {
   "cell_type": "code",
   "execution_count": 240,
   "metadata": {},
   "outputs": [],
   "source": [
    "\n",
    "X_train, X_test, y_train, y_test= train_test_split(X, y,\n",
    "test_size=0.2,\n",
    "random_state=1)"
   ]
  },
  {
   "cell_type": "code",
   "execution_count": null,
   "metadata": {},
   "outputs": [],
   "source": [
    "param_grid = {'max_depth': [2, 4, 6, 8], 'min_samples_leaf': [1, 2, 4, 6], 'criterion': [\"gini\", \"entropy\"]}"
   ]
  },
  {
   "cell_type": "code",
   "execution_count": null,
   "metadata": {},
   "outputs": [],
   "source": [
    "rf_class = RandomForestClassifier(max_features='auto')"
   ]
  },
  {
   "cell_type": "code",
   "execution_count": null,
   "metadata": {},
   "outputs": [],
   "source": [
    "# from sklearn.model_selection import GridSearchCV\n",
    "# from sklearn.model_selection import RandomizedSearchCV"
   ]
  },
  {
   "cell_type": "code",
   "execution_count": null,
   "metadata": {},
   "outputs": [],
   "source": [
    "# instantiate our RF Classifier\n",
    "rf = RandomForestClassifier(\n",
    "    min_samples_leaf=2,\n",
    "    n_jobs=4, \n",
    "    n_estimators=1000,\n",
    "    class_weight='balanced', # balance classes\n",
    "    max_depth=8, # shallow tree depth to prevent overfitting\n",
    "    random_state=0 # set a seed for reproducibility\n",
    ")\n",
    "# grid_rf_class = RandomizedSearchCV(\n",
    "    # estimator=rf_class, param_distributions=param_grid, n_iter=5, scoring=top10_accuracy_scorer, n_jobs=None, \n",
    "    # iid='warn', refit=True, cv='warn', verbose=0, pre_dispatch='2*n_jobs', random_state=None, error_score='raise-deprecating',\n",
    "    # return_train_score='warn')"
   ]
  },
  {
   "cell_type": "code",
   "execution_count": 233,
   "metadata": {},
   "outputs": [],
   "source": [
    "import xgboost as xgb"
   ]
  },
  {
   "cell_type": "code",
   "execution_count": 234,
   "metadata": {},
   "outputs": [],
   "source": [
    "xg_cl = xgb.XGBClassifier(n_estimators=10, seed=123)"
   ]
  },
  {
   "cell_type": "code",
   "execution_count": 235,
   "metadata": {},
   "outputs": [
    {
     "data": {
      "text/plain": [
       "XGBClassifier(base_score=0.5, booster='gbtree', colsample_bylevel=1,\n",
       "              colsample_bynode=1, colsample_bytree=1, gamma=0,\n",
       "              learning_rate=0.1, max_delta_step=0, max_depth=3,\n",
       "              min_child_weight=1, missing=None, n_estimators=10, n_jobs=1,\n",
       "              nthread=None, objective='multi:softprob', random_state=0,\n",
       "              reg_alpha=0, reg_lambda=1, scale_pos_weight=1, seed=123,\n",
       "              silent=None, subsample=1, verbosity=1)"
      ]
     },
     "execution_count": 235,
     "metadata": {},
     "output_type": "execute_result"
    }
   ],
   "source": [
    "xg_cl.fit(X_train, y_train)"
   ]
  },
  {
   "cell_type": "code",
   "execution_count": 236,
   "metadata": {},
   "outputs": [
    {
     "data": {
      "text/plain": [
       "0.6777213582989527"
      ]
     },
     "execution_count": 236,
     "metadata": {},
     "output_type": "execute_result"
    }
   ],
   "source": [
    "top10_accuracy_scorer(xg_cl, X_test, y_test)"
   ]
  },
  {
   "cell_type": "code",
   "execution_count": 258,
   "metadata": {},
   "outputs": [],
   "source": [
    "ngram_test_set = get_ngram_features(test_values, subsequences)\n",
    "\n",
    "test_values[\"sequence_lengths\"] = test_values.sequence.apply(len)\n",
    "test_values[\"gene_number\"] = test_values.sequence.apply(gene_numbers)\n",
    "\n",
    "test_values[\"G_occurrence\"] = test_values.sequence.apply(occurence_G)\n",
    "test_values[\"C_occurrence\"] = test_values.sequence.apply(occurence_C)\n",
    "test_values[\"N_occurrence\"] = test_values.sequence.apply(occurence_N)\n",
    "\n",
    "features_test = test_values.drop([\"sequence\"], axis=1)\n",
    "\n",
    "\n",
    "all_features_test = ngram_test_set.join(features_test.drop([\"sequence_id\"], axis=1))"
   ]
  },
  {
   "cell_type": "code",
   "execution_count": 268,
   "metadata": {},
   "outputs": [],
   "source": [
    "f_names = xg_cl.get_booster().feature_names\n",
    "all_features_test = all_features_test[f_names]"
   ]
  },
  {
   "cell_type": "code",
   "execution_count": 269,
   "metadata": {},
   "outputs": [],
   "source": [
    "predictions = xg_cl.predict_proba(all_features_test)"
   ]
  },
  {
   "cell_type": "code",
   "execution_count": 270,
   "metadata": {},
   "outputs": [],
   "source": [
    "submission_format = pd.read_csv(\"C:/Users/HP/OneDrive/Documents/DrivenData/submission_format_3TFRxH6.csv\", index_col='sequence_id')"
   ]
  },
  {
   "cell_type": "code",
   "execution_count": 271,
   "metadata": {},
   "outputs": [],
   "source": [
    "assert submission_format.shape == predictions.shape\n",
    "assert (grid_rf_class.classes_ == submission_format.columns).all()"
   ]
  },
  {
   "cell_type": "code",
   "execution_count": 272,
   "metadata": {},
   "outputs": [],
   "source": [
    "my_submission_3 = pd.DataFrame(data=predictions, \n",
    "                             columns=xg_cl.classes_, \n",
    "                             index=submission_format.index)"
   ]
  },
  {
   "cell_type": "code",
   "execution_count": 273,
   "metadata": {},
   "outputs": [],
   "source": [
    "my_submission_3.to_csv('C:/Users/HP/OneDrive/Documents/DrivenData/submission_3.csv')"
   ]
  }
 ],
 "metadata": {
  "kernelspec": {
   "display_name": "Python 3",
   "language": "python",
   "name": "python3"
  },
  "language_info": {
   "codemirror_mode": {
    "name": "ipython",
    "version": 3
   },
   "file_extension": ".py",
   "mimetype": "text/x-python",
   "name": "python",
   "nbconvert_exporter": "python",
   "pygments_lexer": "ipython3",
   "version": "3.7.4"
  }
 },
 "nbformat": 4,
 "nbformat_minor": 2
}
